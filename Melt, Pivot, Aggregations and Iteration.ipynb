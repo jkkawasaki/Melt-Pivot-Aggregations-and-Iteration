{
 "cells": [
  {
   "cell_type": "code",
   "execution_count": 1,
   "id": "ef97f7f2-3877-4815-8e12-5b5b54ce69a9",
   "metadata": {},
   "outputs": [
    {
     "name": "stdout",
     "output_type": "stream",
     "text": [
      "                  Class    Age Menopause Tumor_size inv_nodes node_caps  \\\n",
      "0  no-recurrence-events  30-39   premeno      30-34       0-2        no   \n",
      "1  no-recurrence-events  40-49   premeno      20-24       0-2        no   \n",
      "2  no-recurrence-events  40-49   premeno      20-24       0-2        no   \n",
      "3  no-recurrence-events  60-69      ge40      15-19       0-2        no   \n",
      "4  no-recurrence-events  40-49   premeno        0-4       0-2        no   \n",
      "\n",
      "   deg_malig breast breast_quad irradiat  \n",
      "0          3   left    left_low       no  \n",
      "1          2  right    right_up       no  \n",
      "2          2   left    left_low       no  \n",
      "3          2  right     left_up       no  \n",
      "4          2  right   right_low       no   \n",
      "\n",
      "                  Class    Age   Variable    Value\n",
      "0  no-recurrence-events  30-39  Menopause  premeno\n",
      "1  no-recurrence-events  40-49  Menopause  premeno\n",
      "2  no-recurrence-events  40-49  Menopause  premeno\n",
      "3  no-recurrence-events  60-69  Menopause     ge40\n",
      "4  no-recurrence-events  40-49  Menopause  premeno\n"
     ]
    }
   ],
   "source": [
    "#Melt\n",
    "import pandas as pd\n",
    "\n",
    "df = pd.read_csv('breast-cancer.data', header = None)\n",
    "column_names = ['Class', 'Age', 'Menopause', 'Tumor_size', 'inv_nodes', 'node_caps',\n",
    "                'deg_malig', 'breast', 'breast_quad', 'irradiat']\n",
    "df.columns = column_names\n",
    "print(df.head(),\"\\n\")\n",
    "\n",
    "\n",
    "df_melted = pd.melt(df, id_vars=['Class', 'Age'], var_name='Variable', value_name='Value')\n",
    "print(df_melted.head())"
   ]
  },
  {
   "cell_type": "code",
   "execution_count": 2,
   "id": "23fd6795-27ff-46f6-852d-c8ccf4645ea6",
   "metadata": {},
   "outputs": [
    {
     "name": "stdout",
     "output_type": "stream",
     "text": [
      "                           Tumor_size         inv_nodes         node_caps  \\\n",
      "Menopause                        ge40 premeno      ge40 premeno      ge40   \n",
      "Class                Age                                                    \n",
      "no-recurrence-events 20-29        NaN   35-39       NaN     0-2       NaN   \n",
      "                     30-39        NaN   30-34       NaN     0-2       NaN   \n",
      "                     40-49        NaN   20-24       NaN     0-2       NaN   \n",
      "                     50-59        NaN   25-29       NaN     0-2       NaN   \n",
      "                     60-69      15-19     NaN       0-2     NaN        no   \n",
      "\n",
      "                                   deg_malig         breast          \\\n",
      "Menopause                  premeno      ge40 premeno   ge40 premeno   \n",
      "Class                Age                                              \n",
      "no-recurrence-events 20-29      no       NaN     2.0    NaN   right   \n",
      "                     30-39      no       NaN     3.0    NaN    left   \n",
      "                     40-49      no       NaN     2.0    NaN   right   \n",
      "                     50-59      no       NaN     2.0    NaN    left   \n",
      "                     60-69     NaN       2.0     NaN  right     NaN   \n",
      "\n",
      "                           breast_quad           irradiat          \n",
      "Menopause                         ge40   premeno     ge40 premeno  \n",
      "Class                Age                                           \n",
      "no-recurrence-events 20-29         NaN  right_up      NaN      no  \n",
      "                     30-39         NaN  left_low      NaN      no  \n",
      "                     40-49         NaN  right_up      NaN      no  \n",
      "                     50-59         NaN  left_low      NaN      no  \n",
      "                     60-69     left_up       NaN       no     NaN  \n"
     ]
    }
   ],
   "source": [
    "#Pivot\n",
    "df_no_duplicates = df.drop_duplicates(['Class', 'Age'])\n",
    "df_pivoted = df_no_duplicates.pivot(index=['Class', 'Age'], columns='Menopause')\n",
    "\n",
    "print(df_pivoted.head())"
   ]
  },
  {
   "cell_type": "code",
   "execution_count": 3,
   "id": "869d95df-f6a2-4e9f-a81b-d39ce21bd57e",
   "metadata": {},
   "outputs": [
    {
     "name": "stdout",
     "output_type": "stream",
     "text": [
      "                           Tumor_size inv_nodes  deg_malig\n",
      "Class                Age                                  \n",
      "no-recurrence-events 20-29      35-39       0-2          2\n",
      "                     30-39      30-34       0-2          3\n",
      "                     40-49      20-24       0-2          2\n",
      "                     50-59      25-29       0-2          2\n",
      "                     60-69      15-19       0-2          2\n",
      "                     70-79      20-24       0-2          3\n",
      "recurrence-events    30-39        0-4       0-2          2\n",
      "                     40-49      40-44       0-2          1\n",
      "                     50-59      15-19       0-2          2\n",
      "                     60-69      40-44       0-2          2\n",
      "                     70-79      15-19      9-11          1\n"
     ]
    }
   ],
   "source": [
    "#Groupby\n",
    "#Aggregation\n",
    "\n",
    "#group by columns class and age\n",
    "grouped_df = df.groupby(['Class', 'Age'])\n",
    "#apply aggregation to groups\n",
    "aggregated_df = grouped_df.agg({\n",
    "    'Tumor_size': 'first',\n",
    "    'inv_nodes': 'first',\n",
    "    'deg_malig': 'first'\n",
    "})\n",
    "\n",
    "print(aggregated_df)"
   ]
  },
  {
   "cell_type": "code",
   "execution_count": 4,
   "id": "dd39dd23-2f89-4284-af91-caf4bd9d04a8",
   "metadata": {},
   "outputs": [
    {
     "name": "stdout",
     "output_type": "stream",
     "text": [
      "Group: ('no-recurrence-events', '20-29')\n",
      "breast\n",
      "right    1\n",
      "Name: count, dtype: int64 \n",
      "\n",
      "Group: ('no-recurrence-events', '30-39')\n",
      "breast\n",
      "left     11\n",
      "right    10\n",
      "Name: count, dtype: int64 \n",
      "\n",
      "Group: ('no-recurrence-events', '40-49')\n",
      "breast\n",
      "right    36\n",
      "left     27\n",
      "Name: count, dtype: int64 \n",
      "\n",
      "Group: ('no-recurrence-events', '50-59')\n",
      "breast\n",
      "left     39\n",
      "right    32\n",
      "Name: count, dtype: int64 \n",
      "\n",
      "Group: ('no-recurrence-events', '60-69')\n",
      "breast\n",
      "left     23\n",
      "right    17\n",
      "Name: count, dtype: int64 \n",
      "\n",
      "Group: ('no-recurrence-events', '70-79')\n",
      "breast\n",
      "left     3\n",
      "right    2\n",
      "Name: count, dtype: int64 \n",
      "\n",
      "Group: ('recurrence-events', '30-39')\n",
      "breast\n",
      "left     10\n",
      "right     5\n",
      "Name: count, dtype: int64 \n",
      "\n",
      "Group: ('recurrence-events', '40-49')\n",
      "breast\n",
      "left     14\n",
      "right    13\n",
      "Name: count, dtype: int64 \n",
      "\n",
      "Group: ('recurrence-events', '50-59')\n",
      "breast\n",
      "left     17\n",
      "right     8\n",
      "Name: count, dtype: int64 \n",
      "\n",
      "Group: ('recurrence-events', '60-69')\n",
      "breast\n",
      "right    10\n",
      "left      7\n",
      "Name: count, dtype: int64 \n",
      "\n",
      "Group: ('recurrence-events', '70-79')\n",
      "breast\n",
      "left    1\n",
      "Name: count, dtype: int64 \n",
      "\n"
     ]
    }
   ],
   "source": [
    "#Iteration\n",
    "grouped_df = df.groupby(['Class', 'Age'])\n",
    "\n",
    "# Calculate the frequency of each breast category\n",
    "for name, group in grouped_df:\n",
    "    breast_counts = group['breast'].value_counts()\n",
    "    print(f\"Group: {name}\")\n",
    "    print(breast_counts, \"\\n\")"
   ]
  }
 ],
 "metadata": {
  "kernelspec": {
   "display_name": "Python 3 (ipykernel)",
   "language": "python",
   "name": "python3"
  },
  "language_info": {
   "codemirror_mode": {
    "name": "ipython",
    "version": 3
   },
   "file_extension": ".py",
   "mimetype": "text/x-python",
   "name": "python",
   "nbconvert_exporter": "python",
   "pygments_lexer": "ipython3",
   "version": "3.12.5"
  }
 },
 "nbformat": 4,
 "nbformat_minor": 5
}
